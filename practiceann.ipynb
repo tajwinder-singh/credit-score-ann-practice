{
 "cells": [
  {
   "cell_type": "code",
   "execution_count": null,
   "metadata": {
    "id": "uun4MeCSid2b",
    "trusted": true
   },
   "outputs": [],
   "source": [
    "# importing essential libraries\n",
    "import matplotlib.pyplot as plt\n",
    "import pandas as pd\n",
    "import seaborn as sns\n",
    "import numpy as np\n",
    "%matplotlib inline\n",
    "pd.set_option('display.max_columns', None)\n",
    "# from google.colab import drive\n",
    "# drive.mount('\\content\\drive')/kaggle/input/praacticingrnn\n",
    "\n",
    "raw_df = pd.read_csv('/kaggle/input/processed-data-credit-score/Score.csv', low_memory= False) # low_memory\n",
    "\n",
    "df = raw_df.copy() # creating a copy of the original dataset."
   ]
  },
  {
   "cell_type": "code",
   "execution_count": null,
   "metadata": {
    "colab": {
     "base_uri": "https://localhost:8080/",
     "height": 556
    },
    "executionInfo": {
     "elapsed": 9,
     "status": "ok",
     "timestamp": 1745417714678,
     "user": {
      "displayName": "Tajwinder Singh",
      "userId": "00752918548403413662"
     },
     "user_tz": -330
    },
    "id": "-MqNsJSVoIxB",
    "outputId": "76f7ce4b-92a2-4628-c2da-64e8aa6a67af",
    "trusted": true
   },
   "outputs": [],
   "source": [
    "df.head()# checking the top five rows"
   ]
  },
  {
   "cell_type": "code",
   "execution_count": null,
   "metadata": {
    "colab": {
     "base_uri": "https://localhost:8080/"
    },
    "executionInfo": {
     "elapsed": 1069,
     "status": "ok",
     "timestamp": 1745417715741,
     "user": {
      "displayName": "Tajwinder Singh",
      "userId": "00752918548403413662"
     },
     "user_tz": -330
    },
    "id": "LoY0EwNloU5N",
    "outputId": "227b7233-ba74-40b9-dca5-11026e70cfb9",
    "trusted": true
   },
   "outputs": [],
   "source": [
    "print(df.info()) # getting the information of the data"
   ]
  },
  {
   "cell_type": "code",
   "execution_count": null,
   "metadata": {
    "colab": {
     "base_uri": "https://localhost:8080/",
     "height": 899
    },
    "executionInfo": {
     "elapsed": 23,
     "status": "ok",
     "timestamp": 1745417715741,
     "user": {
      "displayName": "Tajwinder Singh",
      "userId": "00752918548403413662"
     },
     "user_tz": -330
    },
    "id": "D4ZkXJtqodKC",
    "outputId": "eb7c5222-3891-4645-8f74-c237b0fcf85d",
    "trusted": true
   },
   "outputs": [],
   "source": [
    "df.isnull().sum() # checking the sum of null values"
   ]
  },
  {
   "cell_type": "code",
   "execution_count": null,
   "metadata": {
    "colab": {
     "base_uri": "https://localhost:8080/"
    },
    "executionInfo": {
     "elapsed": 19,
     "status": "ok",
     "timestamp": 1745417717542,
     "user": {
      "displayName": "Tajwinder Singh",
      "userId": "00752918548403413662"
     },
     "user_tz": -330
    },
    "id": "ZKVpggtmszqG",
    "outputId": "d94d7f61-6a11-4087-dbb2-cbdb31fab410",
    "trusted": true
   },
   "outputs": [],
   "source": [
    "# capturing the numerical features\n",
    "num_features = [feature for feature in df.columns if df[feature].dtypes != 'O']\n",
    "print('Numerical feature: ',num_features)\n"
   ]
  },
  {
   "cell_type": "code",
   "execution_count": null,
   "metadata": {
    "colab": {
     "base_uri": "https://localhost:8080/"
    },
    "executionInfo": {
     "elapsed": 17,
     "status": "ok",
     "timestamp": 1745417717542,
     "user": {
      "displayName": "Tajwinder Singh",
      "userId": "00752918548403413662"
     },
     "user_tz": -330
    },
    "id": "0QN7eZheT_-n",
    "outputId": "6ac644bc-fe4b-48e5-c7dc-04f656e8ac5b",
    "trusted": true
   },
   "outputs": [],
   "source": [
    "# capturing the categorical features\n",
    "categorical_features = [feature for feature in df.columns if df[feature].dtypes == 'O']\n",
    "print('categorical features: ', categorical_features)\n"
   ]
  },
  {
   "cell_type": "code",
   "execution_count": null,
   "metadata": {
    "colab": {
     "base_uri": "https://localhost:8080/"
    },
    "executionInfo": {
     "elapsed": 16,
     "status": "ok",
     "timestamp": 1745417717543,
     "user": {
      "displayName": "Tajwinder Singh",
      "userId": "00752918548403413662"
     },
     "user_tz": -330
    },
    "id": "zroEZqpeU2RY",
    "outputId": "5be314b5-c910-4416-c474-d880edbcbee8",
    "trusted": true
   },
   "outputs": [],
   "source": [
    "# capturing discrete features\n",
    "dis_features = [feature for feature in num_features if df[feature].nunique() <= 25]\n",
    "print('discrete features: ',dis_features)"
   ]
  },
  {
   "cell_type": "code",
   "execution_count": null,
   "metadata": {
    "colab": {
     "base_uri": "https://localhost:8080/"
    },
    "executionInfo": {
     "elapsed": 15,
     "status": "ok",
     "timestamp": 1745417717543,
     "user": {
      "displayName": "Tajwinder Singh",
      "userId": "00752918548403413662"
     },
     "user_tz": -330
    },
    "id": "s1HIaPkSVa07",
    "outputId": "f321e6d9-e338-4292-a6b7-66743e93feff",
    "trusted": true
   },
   "outputs": [],
   "source": [
    "# capturing continuous features\n",
    "con_features = [feature for feature in num_features if df[feature].nunique() > 25]\n",
    "print('continuous features: ',con_features)\n"
   ]
  },
  {
   "cell_type": "code",
   "execution_count": null,
   "metadata": {
    "colab": {
     "base_uri": "https://localhost:8080/"
    },
    "executionInfo": {
     "elapsed": 13,
     "status": "ok",
     "timestamp": 1745417717543,
     "user": {
      "displayName": "Tajwinder Singh",
      "userId": "00752918548403413662"
     },
     "user_tz": -330
    },
    "id": "PHPyEsZrXHxf",
    "outputId": "f868fc89-004d-4dca-c4f0-14a8c1b16a8e",
    "trusted": true
   },
   "outputs": [],
   "source": [
    "# checking the number of unique categories in categorical features\n",
    "for feature in categorical_features:\n",
    "  print(\"Number of unique categories in: '{}' feature are: {}\\n\".format(feature, df[feature].nunique()))"
   ]
  },
  {
   "cell_type": "markdown",
   "metadata": {
    "id": "laW4F8TlrQdQ"
   },
   "source": [
    "## Doing train test split by considering the 'Credit Score' feature as an output feature."
   ]
  },
  {
   "cell_type": "code",
   "execution_count": null,
   "metadata": {
    "id": "_d1APnqJrQde",
    "trusted": true
   },
   "outputs": [],
   "source": [
    "from sklearn.model_selection import train_test_split # 70% training, 15% validation, and 15% test.\n",
    "\n",
    "# First-step: train + test\n",
    "X_train, X_temp, y_train , y_temp = train_test_split(df.drop(['Credit_Score', 'Amount_invested_monthly', 'Monthly_Balance', 'Credit_Utilization_Ratio'],axis=1) ,df['Credit_Score'], test_size = 0.3, random_state= 42)\n",
    "\n",
    "X_test, X_val, y_test, y_val = train_test_split(X_temp, y_temp, test_size = 0.5, random_state = 42)\n"
   ]
  },
  {
   "cell_type": "code",
   "execution_count": null,
   "metadata": {
    "trusted": true
   },
   "outputs": [],
   "source": [
    "X_train.head()\n"
   ]
  },
  {
   "cell_type": "code",
   "execution_count": null,
   "metadata": {
    "trusted": true
   },
   "outputs": [],
   "source": [
    "X_val.head()"
   ]
  },
  {
   "cell_type": "code",
   "execution_count": null,
   "metadata": {
    "trusted": true
   },
   "outputs": [],
   "source": [
    "X_test.head()"
   ]
  },
  {
   "cell_type": "code",
   "execution_count": null,
   "metadata": {
    "trusted": true
   },
   "outputs": [],
   "source": [
    "print(X_train.info())\n",
    "print(X_val.info())\n",
    "print(X_test.info())"
   ]
  },
  {
   "cell_type": "code",
   "execution_count": null,
   "metadata": {
    "_kg_hide-output": true,
    "trusted": true
   },
   "outputs": [],
   "source": [
    "# checking the number of unique categories in categorical features\n",
    "cat_features = [feature for feature in X_train.columns if X_train[feature].dtypes == 'O']\n",
    "for feature in cat_features:\n",
    "  print(\"Number of unique categories in: '{}' feature are: {}\\n\".format(feature, X_train[feature].nunique()))"
   ]
  },
  {
   "cell_type": "code",
   "execution_count": null,
   "metadata": {
    "trusted": true
   },
   "outputs": [],
   "source": [
    "numericalCols = [feature for feature in X_train.columns if X_train[feature].dtypes != 'O' ]\n",
    "print((numericalCols))"
   ]
  },
  {
   "cell_type": "markdown",
   "metadata": {},
   "source": [
    "# Log Transformation"
   ]
  },
  {
   "cell_type": "code",
   "execution_count": null,
   "metadata": {
    "trusted": true
   },
   "outputs": [],
   "source": [
    "# capturing right skewed features:\n",
    "skewedFeatures = [feature for feature in X_train.columns if X_train[feature].dtypes != 'O' if (X_train[feature] > 0).all() if X_train[feature].nunique() > 25]\n",
    "print('Features that are right skewed are: {}'.format(skewedFeatures))\n",
    "\n",
    "\n",
    "# Creating a new dataframe where transformed x train and test will be stored.\n",
    "XtrainLog = X_train.copy() \n",
    "XvalidateLog = X_val.copy()\n",
    "XtestLog = X_test.copy()\n",
    "\n",
    "\n",
    "# Log transformation on Xtrain and Xtest\n",
    "for feature in skewedFeatures:\n",
    "    XtrainLog[feature] = np.log1p(XtrainLog[feature])\n",
    "    XvalidateLog[feature] = np.log1p(XvalidateLog[feature])\n",
    "    XtestLog[feature] = np.log1p(XtestLog[feature])"
   ]
  },
  {
   "cell_type": "code",
   "execution_count": null,
   "metadata": {
    "trusted": true
   },
   "outputs": [],
   "source": [
    "XtrainLog.columns"
   ]
  },
  {
   "cell_type": "code",
   "execution_count": null,
   "metadata": {
    "trusted": true
   },
   "outputs": [],
   "source": [
    "XtrainLog.head()"
   ]
  },
  {
   "cell_type": "code",
   "execution_count": null,
   "metadata": {
    "trusted": true
   },
   "outputs": [],
   "source": [
    "XvalidateLog.head()"
   ]
  },
  {
   "cell_type": "markdown",
   "metadata": {},
   "source": [
    "# Feature Scaling"
   ]
  },
  {
   "cell_type": "code",
   "execution_count": null,
   "metadata": {
    "trusted": true
   },
   "outputs": [],
   "source": [
    "# Using MinMaxScaler for feature scaling which will convert the value between 0 to infinity. Scaling only Numerical features.\n",
    "from sklearn.preprocessing import MinMaxScaler\n",
    "\n",
    "X_train_scaled = XtrainLog.copy()\n",
    "X_val_scaled = XvalidateLog.copy()\n",
    "X_test_scaled = XtestLog.copy()\n",
    "\n",
    "\n",
    "scaler = MinMaxScaler()\n",
    "\n",
    "X_train_scaled.loc[:,numericalCols] = scaler.fit_transform(X_train_scaled.loc[:,numericalCols])\n",
    "\n",
    "X_val_scaled.loc[:, numericalCols] = scaler.transform(X_val_scaled.loc[:, numericalCols])\n",
    "\n",
    "X_test_scaled.loc[:,numericalCols] = scaler.transform(X_test_scaled.loc[:,numericalCols])\n",
    "\n"
   ]
  },
  {
   "cell_type": "markdown",
   "metadata": {},
   "source": [
    "# Before moving a head, I am training an XGBoostClassifier in order to check the most important/top-best features that will also be used to train the ANN. This will also help to find us whether training the simple XBG will give good accuracy as compared to ANN or not."
   ]
  },
  {
   "cell_type": "code",
   "execution_count": null,
   "metadata": {
    "trusted": true
   },
   "outputs": [],
   "source": [
    "# Performing OHE as it is needed for XGB instead of Label Encoding.\n",
    "from sklearn.preprocessing import OneHotEncoder, LabelEncoder\n",
    "from sklearn.compose import ColumnTransformer\n",
    "\n",
    "\n",
    "ct = ColumnTransformer(transformers = [('cat_enc', OneHotEncoder(drop = 'first', handle_unknown = \"ignore\"), cat_features)], remainder = 'passthrough')\n",
    "\n",
    "X_train_scaled_copy = X_train_scaled.copy()\n",
    "X_test_scaled_copy = X_test_scaled.copy()\n",
    "\n",
    "X_train_encoded = ct.fit_transform(X_train_scaled_copy) # sparse = False will return a OHE array which we want.\n",
    "X_test_encoded = ct.transform(X_test_scaled_copy)\n",
    "\n",
    "\n",
    "# ------------------------------------\n",
    "# Converting this encoded data into a proper data frame\n",
    "# ------------------------------------\n",
    "# 1️⃣ Get OHE feature names\n",
    "ohe_feature_names = ct.named_transformers_['cat_enc'].get_feature_names_out(cat_features)\n",
    "\n",
    "# 2️⃣ Get passthrough (numerical) feature names\n",
    "passthrough_features = [name for name in X_train_scaled_copy.columns if name not in cat_features]\n",
    "\n",
    "# 3️⃣ Combine them in order\n",
    "all_feature_names = list(ohe_feature_names) + passthrough_features\n",
    "\n",
    "# 4️⃣ Convert encoded array back to DataFrame with proper column names\n",
    "X_train_encoded_df = pd.DataFrame(X_train_encoded, columns=all_feature_names, index=X_train_scaled_copy.index)\n",
    "X_test_encoded_df = pd.DataFrame(X_test_encoded, columns=all_feature_names, index=X_test_scaled_copy.index)\n",
    "\n",
    "\n",
    "# --------------\n",
    "# Encoding target variable\n",
    "# --------------\n",
    "y_encoder = LabelEncoder()\n",
    "y_train_enc = y_encoder.fit_transform(y_train)\n",
    "y_val_enc = y_encoder.transform(y_val)\n",
    "y_test_enc = y_encoder.transform(y_test)"
   ]
  },
  {
   "cell_type": "code",
   "execution_count": null,
   "metadata": {
    "trusted": true
   },
   "outputs": [],
   "source": [
    "# Capturing important features\n",
    "from xgboost import XGBClassifier\n",
    "import pandas as pd\n",
    "from sklearn.metrics import accuracy_score\n",
    "\n",
    "# Train a quick XGBoost model\n",
    "xgb = XGBClassifier(\n",
    "    n_estimators=200,\n",
    "    learning_rate=0.1,\n",
    "    max_depth=6,\n",
    "    random_state=42,\n",
    "    n_jobs=-1\n",
    ")\n",
    "xgb.fit(X_train_encoded_df, y_train_enc)\n",
    "\n",
    "# Get feature importances\n",
    "importances = xgb.feature_importances_\n",
    "feat_imp = pd.Series(importances, index=X_train_encoded_df.columns)\n",
    "\n",
    "# Sort descending\n",
    "feat_imp = feat_imp.sort_values(ascending=False)\n",
    "\n",
    "# Display ranked features\n",
    "print(\"Feature Importances (XGBoost):\")\n",
    "print(feat_imp)\n",
    "\n",
    "# Select top N features (say top 15)\n",
    "top_features = feat_imp.head(15).index\n",
    "X_train_selected = X_train_encoded_df[top_features]\n",
    "X_test_selected = X_test_encoded_df[top_features]\n",
    "\n",
    "\n",
    "print(\"XGBoost Classifier Accuracy:\", accuracy_score(y_test_enc, xgb.predict(X_test_encoded)))\n"
   ]
  },
  {
   "cell_type": "code",
   "execution_count": null,
   "metadata": {
    "trusted": true
   },
   "outputs": [],
   "source": [
    "# Now, on these top features I am performing StratifiedKFold. This  will help to know that which top 'n' features that are giving higher accuracy\n",
    "from sklearn.model_selection import cross_val_score # Cross validation will calculate the accuracy at each cv\n",
    "import matplotlib.pyplot as plt\n",
    "import numpy as np\n",
    "\n",
    "max_k = len(feat_imp)\n",
    "\n",
    "scores = []\n",
    "\n",
    "for k in range(1, max_k + 1):\n",
    "    topk = feat_imp.head(k).index.tolist()\n",
    "    Xk = X_train_encoded_df[topk]\n",
    "\n",
    "    model = XGBClassifier(n_estimator = 200, max_depth = 6, random_state = 42, n_jobs = -1)\n",
    "    score = cross_val_score(model, Xk, y_train_enc, cv = 5, n_jobs = -1, scoring = 'accuracy')\n",
    "    scores.append(score.mean())\n",
    "\n",
    "    print(f\"K = {k:2d} CV accuracy = {score.mean():.4f}\") # 'd' means that a single integer 'K' value will take two-integer space \n",
    "\n",
    "\n",
    "# Plotting accuracy vs k\n",
    "plt.figure(figsize = (10, 5))\n",
    "plt.plot(range(1, max_k+1), scores, marker = 'o')\n",
    "plt.xlabel(\"K-value\")\n",
    "plt.ylabel(\"Accuracy Mean\")\n",
    "plt.title(\"Accuracy Vs K-Value\")\n",
    "plt.grid(True)\n",
    "plt.show()\n",
    "\n",
    "best_k = np.argmax(scores) + 1 # Capturing the value of the best 'K' by adding 1 with the highest score index\n",
    "print(f\"Highest CV accuracy {max(scores):.4f} at K = {best_k}\")"
   ]
  },
  {
   "cell_type": "markdown",
   "metadata": {
    "id": "Kh5FXhybA8RV"
   },
   "source": [
    "# Categorical Encoding will be performed using Categorical Embedding Instead of OHE to train ANN:"
   ]
  },
  {
   "cell_type": "code",
   "execution_count": null,
   "metadata": {
    "trusted": true
   },
   "outputs": [],
   "source": [
    "# At first using label encoding to convert each category into labelled integerIDs.\n",
    "from sklearn.preprocessing import LabelEncoder\n",
    "\n",
    "# Creating encoders\n",
    "Payment_of_Min_Amount_enc = LabelEncoder()\n",
    "Credit_Mix_enc = LabelEncoder()\n",
    "Payment_Behaviour_enc = LabelEncoder()\n",
    "\n",
    "\n",
    "# Fit and Transform. Since LabeEncoder can't handel multiple columns transformation therefore, doing column-wise transformation.\n",
    "X_train_scaled['Payment_of_Min_Amount'] = Payment_of_Min_Amount_enc.fit_transform(X_train_scaled['Payment_of_Min_Amount'])\n",
    "X_val_scaled['Payment_of_Min_Amount'] = Payment_of_Min_Amount_enc.transform(X_val_scaled['Payment_of_Min_Amount'])\n",
    "X_test_scaled['Payment_of_Min_Amount'] = Payment_of_Min_Amount_enc.transform(X_test_scaled['Payment_of_Min_Amount'])\n",
    "\n",
    "\n",
    "X_train_scaled['Credit_Mix'] = Credit_Mix_enc.fit_transform(X_train_scaled['Credit_Mix'])\n",
    "X_val_scaled['Credit_Mix'] = Credit_Mix_enc.transform(X_val_scaled['Credit_Mix'])\n",
    "X_test_scaled['Credit_Mix'] = Credit_Mix_enc.transform(X_test_scaled['Credit_Mix'])\n",
    "\n",
    "\n",
    "\n",
    "X_train_scaled['Payment_Behaviour'] = Payment_Behaviour_enc.fit_transform(X_train_scaled['Payment_Behaviour'])\n",
    "X_val_scaled['Payment_Behaviour'] = Payment_Behaviour_enc.transform(X_val_scaled['Payment_Behaviour'])\n",
    "X_test_scaled['Payment_Behaviour'] = Payment_Behaviour_enc.transform(X_test_scaled['Payment_Behaviour'])\n",
    "\n",
    "\n",
    "\n"
   ]
  },
  {
   "cell_type": "code",
   "execution_count": null,
   "metadata": {
    "trusted": true
   },
   "outputs": [],
   "source": [
    "# Checking the number of unique categories in categorical features\n",
    "\n",
    "for feature in cat_features:\n",
    "  print(\"Number of unique categories in: '{}' feature are: {} and the unique values in each column are: {}\\n\" .format(feature, X_train_scaled[feature].nunique(), X_train_scaled[feature].unique()))\n",
    "    "
   ]
  },
  {
   "cell_type": "markdown",
   "metadata": {},
   "source": [
    "# Now, I am training the model without Hyperparameter Tuning."
   ]
  },
  {
   "cell_type": "code",
   "execution_count": null,
   "metadata": {
    "id": "9M06G6P1A8RW",
    "trusted": true
   },
   "outputs": [],
   "source": [
    "# Creating embedding layers for categorical features.\n",
    "\n",
    "from tensorflow.keras.layers import Input, Embedding, Flatten, Concatenate, Dense, Dropout, LeakyReLU\n",
    "from tensorflow.keras.models import Model\n",
    "from tensorflow.keras.optimizers import AdamW\n",
    "from tensorflow.keras.callbacks import EarlyStopping, ReduceLROnPlateau\n",
    "from sklearn.utils.class_weight import compute_class_weight\n",
    "\n",
    "# creating a dictionary to specify output_dimensions of each feature.\n",
    "embedding_sizes = {\n",
    "    'Payment_of_Min_Amount': 2,\n",
    "    'Credit_Mix': 2,\n",
    "    'Payment_Behaviour': 3\n",
    "}\n",
    "\n",
    "inputs = [] # To store different input features\n",
    "embeddings = [] # Embdding layers will be concatenated\n",
    "\n",
    "for cat in cat_features:\n",
    "    inp = Input(shape = (1, ), name = cat+'_in') # Here, initially, we specify the shape of each category. This shape indicates that the category's shape is an integer value only. Later, when we fit the model with the data, the model will map each ID(category) according to this input shape that is the shape of an integer.\n",
    "\n",
    "    inputs.append(inp) # Appending each Categorical feature's input size. Here this shape specify that there will be a single integer ID(label) taken.\n",
    "\n",
    "    \n",
    "    # Embedding layer:\n",
    "    input_dim = X_train_scaled[cat].nunique()\n",
    "    out_dim = embedding_sizes[cat] # It will capture the output dimensions of each feature\n",
    "    emb = Embedding(input_dim = input_dim + 1, output_dim = out_dim)(inp) # creating embedding layer of the feature. (inp) will map each ID and create a dimensional vector for the ID .i.e., the category.\n",
    "    emb = Flatten()(emb) # This will make the 3D shape of layer into 2D. \n",
    "    embeddings.append(emb)\n",
    "\n",
    "\n",
    "# Numerical Input\n",
    "num_in = Input(shape = (len(numericalCols), ), name = 'numerical_in')\n",
    "inputs.append(num_in)\n",
    "\n",
    "\n",
    "# Concatenating embeddings and inputs: Here, ()() works because Concatenate and Dense are two classes and they can call each other in this way. 'x' stores the entire information in the computational graph and passes the information to the output layer.\n",
    "x = Concatenate()(embeddings + [num_in]) # This will concatenate the embeddings and numerical features. This concatenation as I said earlier, will be visible when the data gets fit.\n",
    "\n",
    "\n",
    "x = Dense(512, activation = 'relu', kernel_initializer = 'he_uniform')(x)\n",
    "x = Dropout(0.2)(x)\n",
    "\n",
    "x = Dense(256, activation = 'relu', kernel_initializer = 'he_uniform')(x)\n",
    "x = Dropout(0.2)(x)\n",
    "\n",
    "x = Dense(256, activation = 'relu', kernel_initializer = 'he_uniform')(x) \n",
    "x = Dropout(0.2)(x) \n",
    "\n",
    "x = Dense(128, activation = 'relu', kernel_initializer = 'he_uniform')(x) \n",
    "x = Dropout(0.2)(x) \n",
    "\n",
    "x = Dense(64, activation = 'relu', kernel_initializer = 'he_uniform')(x) \n",
    "x = Dropout(0.2)(x)\n",
    "\n",
    "\n",
    "# Creating Output layer\n",
    "output = Dense(3, activation = 'softmax', kernel_initializer = 'glorot_uniform')(x)\n",
    "\n",
    "\n",
    "model = Model(inputs = inputs, outputs = output) # You know about why we pass inputs. But, we are passing output here, to specify that the final output of the model should be considered from this output layer itself.\n",
    "model.compile(optimizer = 'adam',\n",
    "              loss = 'sparse_categorical_crossentropy',\n",
    "              metrics = ['accuracy']) # Accuracy can also be seen when during the output of every epoch\n",
    "\n",
    "\n",
    "# ----------------------------------------------\n",
    "# Preparing Input For Data Training. Now, here, we are specifying the value for each input which we have specified in 'num_in' and 'inputs'. \n",
    "# ----------------------------------------------\n",
    "\n",
    "# Capturing input labels of each column\n",
    "train_cat_inputs = [X_train_scaled[cat].values for cat in cat_features]\n",
    "val_cat_inputs = [X_val_scaled[cat].values for cat in cat_features]\n",
    "\n",
    "# Capturing values of each numerical feature\n",
    "train_num_input = X_train_scaled[numericalCols].values\n",
    "val_num_input = X_val_scaled[numericalCols].values\n",
    "\n",
    "\n",
    "# Combining all inputs in the same order as 'inputs' list\n",
    "train_model_inputs = train_cat_inputs + [train_num_input]\n",
    "val_model_inputs = val_cat_inputs + [val_num_input]\n",
    "\n",
    "# Early Stopping\n",
    "es = EarlyStopping(\n",
    "    monitor = 'val_loss',\n",
    "    patience = 10,  # If validation loss stops decreasing till 15 rows then, the training will stops.\n",
    "    restore_best_weights = True,\n",
    "    verbose = 1\n",
    ")\n",
    "\n",
    "\n",
    "# Reducing the Learning Rate if the validation Loss reaches Plateau .i.e., stops improving. This will help in fine tuning the model and improve accuracy by reducing the Learning Rate after waiting for some 'Patience value'.\n",
    "reduceLR = ReduceLROnPlateau(\n",
    "    monitor = 'val_loss',\n",
    "    patience = 8,\n",
    "    factor = 0.5, # This will divide the learning rate by 0.5 each time IF the val_loss stops improving.\n",
    "    vebose = 1,\n",
    "    min_lr = 1e-6 # This is the minimum bound of the Learning Rate which is 0.000001. If the Learning Rate can dicrease till bound only. \n",
    ")\n",
    "\n",
    "\n",
    "# Balancing output variable\n",
    "class_weights = compute_class_weight(\n",
    "    class_weight = \"balanced\",\n",
    "    classes = np.unique(y_train_enc),\n",
    "    y = y_train_enc\n",
    ")\n",
    "\n",
    "class_weights = dict(enumerate(class_weights)) # Creates a dictionary where the key will index of class and value will be weight of the corresponding class.\n",
    "\n",
    "# Fiting model\n",
    "model.fit(train_model_inputs, y_train_enc,\n",
    "          batch_size = 64,\n",
    "          epochs = 200,\n",
    "          validation_data = (val_model_inputs, y_val_enc),\n",
    "          callbacks = [es, reduceLR],\n",
    "          class_weight = class_weights)\n",
    "\n"
   ]
  },
  {
   "cell_type": "code",
   "execution_count": null,
   "metadata": {
    "trusted": true
   },
   "outputs": [],
   "source": [
    "y_train.head(20)"
   ]
  },
  {
   "cell_type": "code",
   "execution_count": null,
   "metadata": {
    "trusted": true
   },
   "outputs": [],
   "source": [
    "y_train_enc[:20]"
   ]
  },
  {
   "cell_type": "markdown",
   "metadata": {},
   "source": [
    "# Hyperparameter Tuning using Bayesian Optimization"
   ]
  },
  {
   "cell_type": "code",
   "execution_count": null,
   "metadata": {
    "trusted": true
   },
   "outputs": [],
   "source": [
    "# We can train hyperparameters like: layer, neurons, LR, embedding dimensions, etc. But, here, tunned only LR since tunning other parameters worsen the accuracy as compared to without tuning.\n",
    "\n",
    "from tensorflow.keras.layers import Input, Embedding, Flatten, Concatenate, Dense, Dropout\n",
    "from tensorflow.keras.models import Model\n",
    "from tensorflow import keras\n",
    "import keras_tuner as kt\n",
    "from keras.callbacks import EarlyStopping\n",
    "from sklearn.utils.class_weight import compute_class_weight\n",
    "from functools import partial\n",
    "import numpy as np\n",
    "\n",
    "\n",
    "# ---------------------------------\n",
    "# Defining model builder using Bayesian Optimization\n",
    "# ---------------------------------\n",
    "def model_builder(hp, cat_features): # Passing 'hp' object and the cat_features as an argument. The 'hp' Hyperparameter is an object of kerastuner\n",
    "        # --------------------------------\n",
    "    # Preparing categorical embedding and numerical inputs.\n",
    "    # --------------------------------\n",
    "    categorical_inputs = [] # To store different input features\n",
    "    embedding_layers = [] # Embdding layers will be concatenated\n",
    "    \n",
    "    for cat in cat_features:\n",
    "        inp = Input(shape = (1, ), name = cat+'_in') # Here, initially, we specify the shape of each category. This shape indicates that the category's shape is an integer value only. Later, when we fit the model with the data, the model will map each ID(category) according to this input shape that is the shape of an integer.\n",
    "    \n",
    "        categorical_inputs.append(inp) # Appending each Categorical feature's input size. Here this shape specify that there will be a single integer ID(label) taken.\n",
    "    \n",
    "        \n",
    "        # Embedding layer:\n",
    "        input_dim = X_train_scaled[cat].nunique()\n",
    "        out_dim = min(50, (input_dim + 1) // 2) # It will capture the output dimensions of each feature with correct formula\n",
    "        emb = Embedding(input_dim = input_dim + 1, output_dim = out_dim, input_length = 1)(inp) # creating embedding layer of the feature. (inp) will map each ID and create a dimensional vector for the ID .i.e., the category. Written '+1' because categories are encoded and starting from 0, so, + 1 will to give the correct lenght of the unique cats The input_length = 1 will specify the shape of input as inp does but, mentioning 'input_length' is a good practice.\n",
    "        emb = Flatten()(emb) # This will make the 3D shape of layer into 2D. \n",
    "        embedding_layers.append(emb)\n",
    "    \n",
    "    \n",
    "    # Numerical Input\n",
    "    numerical_input = Input(shape = (len(numericalCols), ), name = 'numerical_in')\n",
    "\n",
    "    x = Concatenate()(embedding_layers + [numerical_input])\n",
    "\n",
    "\n",
    "    # Creating dense layers\n",
    "    x = Dense(128, activation = 'relu', kernel_initializer = 'he_uniform')(x)\n",
    "    x = Dropout(0.2)(x)\n",
    "    \n",
    "    x = Dense(64, activation = 'relu', kernel_initializer = 'he_uniform')(x)\n",
    "    x = Dropout(0.2)(x)\n",
    "\n",
    "    # Output Layer\n",
    "    num_classes = len(np.unique(y_train_enc))\n",
    "    output = Dense(num_classes, activation = 'softmax')(x)\n",
    "\n",
    "    model = Model(inputs = categorical_inputs + [numerical_input], outputs = output)\n",
    "\n",
    "\n",
    "    # Tuning learning rate\n",
    "    lr = hp.Float(f\"learning_rate\", 0.0001, 0.01, sampling = 'log') # sampling = 'log' ensures the values are taken on a logrithmic scale only betwenn this min-max range.\n",
    "\n",
    "    # Compiling model\n",
    "    model.compile(optimizer = keras.optimizers.Adam(learning_rate = lr), loss='sparse_categorical_crossentropy', metrics = ['accuracy'])\n",
    "    \n",
    "    return model\n",
    "\n",
    "# ------------\n",
    "# Balancing classes\n",
    "# ------------\n",
    "class_weights = compute_class_weight(\n",
    "    class_weight = \"balanced\",\n",
    "    classes = np.unique(y_train_enc),\n",
    "    y = y_train_enc\n",
    ")\n",
    "\n",
    "class_weights = dict(enumerate(class_weights)) # Creates a dictionary where the key will index of class and value will be weight of the corresponding class.\n",
    "\n",
    "# ---------------------\n",
    "# Bayesian Optimization\n",
    "# ---------------------\n",
    "tuner = kt.BayesianOptimization( \n",
    "    partial(model_builder, cat_features = cat_features), # partial() is an function that helps to send an argument\n",
    "    objective = 'val_accuracy',\n",
    "    max_trials = 20,     # number of hyperparameter combinations to try\n",
    "    directory = 'bayes_tuner',\n",
    "    project_name = 'multiclass_ann'\n",
    ")\n",
    "\n",
    "\n",
    "es = EarlyStopping(monitor = 'val_loss',\n",
    "                   patience = 8,\n",
    "                   min_delta = 1e-4,    # Ignores tiny, insignificant improvements of val_loss that don’t matter practically.\n",
    "                   restore_best_weights = True,  # Ensures the final model is the one with the highest validation accuracy, not the last epoch.\n",
    "                   verbose = 2\n",
    "                  \n",
    "                  )\n",
    "\n",
    "\n",
    "                   \n",
    "# ----------\n",
    "# Running Search\n",
    "# ----------\n",
    "tuner.search(\n",
    "    [X_train_scaled[col].values for col in cat_features] + [X_train_scaled[numericalCols].values],\n",
    "    y_train_enc, \n",
    "    epochs = 10,\n",
    "    validation_data= ([X_val_scaled[col].values for col in cat_features] + [X_val_scaled[numericalCols].values], y_val_enc),\n",
    "    batch_size = 32,\n",
    "    verbose=2,   # this will display output of the accuracy and losss for each epoch\n",
    "    class_weight = class_weights,\n",
    "    callbacks = [es]\n",
    ")\n"
   ]
  },
  {
   "cell_type": "code",
   "execution_count": null,
   "metadata": {
    "trusted": true
   },
   "outputs": [],
   "source": [
    "# -----------\n",
    "# Getting Best Model\n",
    "# -----------\n",
    "best_hyps = tuner.get_best_hyperparameters(num_trials = 1)[0] # This will select top and best performing hyperparameters from a one trial only.\n",
    "model = tuner.hypermodel.build(best_hyps) # Takes the best hyperparameters and rebuilds the model using them.\n",
    "\n",
    "\n",
    "# Training final model fully for maximum accuracy.\n",
    "history = model.fit([X_train_scaled[cat].values for cat in cat_features] + [X_train_scaled[numericalCols].values],\n",
    "                    y_train_enc,\n",
    "                    epochs = 30,\n",
    "                    batch_size = 32,\n",
    "                    validation_data = ([X_val_scaled[cat].values for cat in cat_features] + [X_val_scaled[numericalCols].values], y_val_enc),\n",
    "                    class_weight = class_weights\n",
    "                    )\n",
    "                    \n"
   ]
  }
 ],
 "metadata": {
  "colab": {
   "provenance": []
  },
  "kaggle": {
   "accelerator": "gpu",
   "dataSources": [
    {
     "datasetId": 3131652,
     "sourceId": 5405554,
     "sourceType": "datasetVersion"
    },
    {
     "datasetId": 8329044,
     "sourceId": 13146295,
     "sourceType": "datasetVersion"
    }
   ],
   "dockerImageVersionId": 31089,
   "isGpuEnabled": true,
   "isInternetEnabled": true,
   "language": "python",
   "sourceType": "notebook"
  },
  "kernelspec": {
   "display_name": "Python 3",
   "language": "python",
   "name": "python3"
  },
  "language_info": {
   "codemirror_mode": {
    "name": "ipython",
    "version": 3
   },
   "file_extension": ".py",
   "mimetype": "text/x-python",
   "name": "python",
   "nbconvert_exporter": "python",
   "pygments_lexer": "ipython3",
   "version": "3.11.13"
  }
 },
 "nbformat": 4,
 "nbformat_minor": 4
}
